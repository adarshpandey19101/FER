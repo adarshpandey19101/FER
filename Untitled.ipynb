{
 "cells": [
  {
   "cell_type": "code",
   "execution_count": 22,
   "id": "cd8cddc6-5b0f-4eac-ade0-e63c36611da2",
   "metadata": {},
   "outputs": [],
   "source": [
    "from keras.utils import to_categorical\n",
    "from keras_preprocessing.image import load_img\n",
    "from keras.models import Sequential\n",
    "from keras.layers import Dense, Conv2D, Dropout, Flatten, MaxPooling2D\n",
    "import os\n",
    "import pandas as pd\n",
    "import numpy as np"
   ]
  },
  {
   "cell_type": "code",
   "execution_count": 3,
   "id": "b308a6bd-355f-413f-8d2f-4bed8c6052dd",
   "metadata": {},
   "outputs": [],
   "source": [
    "TRAIN_DIR = 'images/train'\n",
    "TEST_DIR = 'images/test'"
   ]
  },
  {
   "cell_type": "code",
   "execution_count": 4,
   "id": "bc3ba3d5-c37b-44e7-96ab-9af64552f496",
   "metadata": {},
   "outputs": [],
   "source": [
    "def createdataframe(dir):\n",
    "    image_paths = []\n",
    "    labels = []\n",
    "    for label in os.listdir(dir):\n",
    "        for imagename in os.listdir(os.path.join(dir,label)):\n",
    "            image_paths.append(os.path.join(dir,label,imagename))\n",
    "            labels.append(label)\n",
    "        print(label, \"completed\")\n",
    "    return image_paths,labels\n"
   ]
  },
  {
   "cell_type": "code",
   "execution_count": 5,
   "id": "7c86346c-bc02-4fc4-ae1d-5bc8b764ea54",
   "metadata": {},
   "outputs": [
    {
     "name": "stdout",
     "output_type": "stream",
     "text": [
      "angry completed\n",
      "fear completed\n",
      "happy completed\n",
      "neutral completed\n",
      "sad completed\n",
      "surprise completed\n"
     ]
    }
   ],
   "source": [
    "train = pd.DataFrame()\n",
    "train['image'], train['label'] = createdataframe(TRAIN_DIR)"
   ]
  },
  {
   "cell_type": "code",
   "execution_count": 6,
   "id": "736ec151-0ee0-4a94-be11-12e0d7d62e4d",
   "metadata": {},
   "outputs": [
    {
     "name": "stdout",
     "output_type": "stream",
     "text": [
      "                            image     label\n",
      "0        images/train\\angry\\0.jpg     angry\n",
      "1        images/train\\angry\\1.jpg     angry\n",
      "2       images/train\\angry\\10.jpg     angry\n",
      "3      images/train\\angry\\107.jpg     angry\n",
      "4      images/train\\angry\\117.jpg     angry\n",
      "5       images/train\\angry\\22.jpg     angry\n",
      "6       images/train\\angry\\27.jpg     angry\n",
      "7       images/train\\angry\\90.jpg     angry\n",
      "8       images/train\\angry\\91.jpg     angry\n",
      "9       images/train\\angry\\93.jpg     angry\n",
      "10      images/train\\fear\\101.jpg      fear\n",
      "11      images/train\\fear\\131.jpg      fear\n",
      "12       images/train\\fear\\21.jpg      fear\n",
      "13      images/train\\fear\\314.jpg      fear\n",
      "14      images/train\\fear\\340.jpg      fear\n",
      "15      images/train\\fear\\341.jpg      fear\n",
      "16      images/train\\fear\\365.jpg      fear\n",
      "17      images/train\\fear\\414.jpg      fear\n",
      "18       images/train\\fear\\73.jpg      fear\n",
      "19       images/train\\fear\\85.jpg      fear\n",
      "20     images/train\\happy\\100.jpg     happy\n",
      "21     images/train\\happy\\103.jpg     happy\n",
      "22      images/train\\happy\\14.jpg     happy\n",
      "23      images/train\\happy\\16.jpg     happy\n",
      "24      images/train\\happy\\24.jpg     happy\n",
      "25      images/train\\happy\\25.jpg     happy\n",
      "26       images/train\\happy\\7.jpg     happy\n",
      "27      images/train\\happy\\82.jpg     happy\n",
      "28      images/train\\happy\\97.jpg     happy\n",
      "29      images/train\\happy\\99.jpg     happy\n",
      "30   images/train\\neutral\\102.jpg   neutral\n",
      "31    images/train\\neutral\\11.jpg   neutral\n",
      "32   images/train\\neutral\\113.jpg   neutral\n",
      "33    images/train\\neutral\\12.jpg   neutral\n",
      "34    images/train\\neutral\\13.jpg   neutral\n",
      "35    images/train\\neutral\\18.jpg   neutral\n",
      "36     images/train\\neutral\\4.jpg   neutral\n",
      "37    images/train\\neutral\\83.jpg   neutral\n",
      "38    images/train\\neutral\\92.jpg   neutral\n",
      "39    images/train\\neutral\\94.jpg   neutral\n",
      "40       images/train\\sad\\115.jpg       sad\n",
      "41       images/train\\sad\\172.jpg       sad\n",
      "42        images/train\\sad\\20.jpg       sad\n",
      "43       images/train\\sad\\680.jpg       sad\n",
      "44       images/train\\sad\\688.jpg       sad\n",
      "45        images/train\\sad\\70.jpg       sad\n",
      "46       images/train\\sad\\761.jpg       sad\n",
      "47       images/train\\sad\\798.jpg       sad\n",
      "48       images/train\\sad\\800.jpg       sad\n",
      "49        images/train\\sad\\98.jpg       sad\n",
      "50  images/train\\surprise\\176.jpg  surprise\n",
      "51  images/train\\surprise\\256.jpg  surprise\n",
      "52  images/train\\surprise\\276.jpg  surprise\n",
      "53   images/train\\surprise\\51.jpg  surprise\n",
      "54  images/train\\surprise\\670.jpg  surprise\n",
      "55  images/train\\surprise\\675.jpg  surprise\n",
      "56  images/train\\surprise\\692.jpg  surprise\n",
      "57  images/train\\surprise\\726.jpg  surprise\n",
      "58  images/train\\surprise\\759.jpg  surprise\n",
      "59   images/train\\surprise\\78.jpg  surprise\n"
     ]
    }
   ],
   "source": [
    "print(train)"
   ]
  },
  {
   "cell_type": "code",
   "execution_count": 7,
   "id": "58315f77-6ba1-4015-99ff-f33893bf6f02",
   "metadata": {},
   "outputs": [
    {
     "name": "stdout",
     "output_type": "stream",
     "text": [
      "fear completed\n",
      "happy completed\n",
      "sad completed\n",
      "surprise completed\n"
     ]
    }
   ],
   "source": [
    "test = pd.DataFrame()\n",
    "test['image'], test['label'] = createdataframe(TEST_DIR)"
   ]
  },
  {
   "cell_type": "code",
   "execution_count": 8,
   "id": "e97a5dcb-07b2-4be6-b726-1e69aee7be3a",
   "metadata": {},
   "outputs": [
    {
     "name": "stdout",
     "output_type": "stream",
     "text": [
      "                           image     label\n",
      "0       images/test\\fear\\101.jpg      fear\n",
      "1       images/test\\fear\\131.jpg      fear\n",
      "2        images/test\\fear\\21.jpg      fear\n",
      "3       images/test\\fear\\314.jpg      fear\n",
      "4       images/test\\fear\\340.jpg      fear\n",
      "5       images/test\\fear\\341.jpg      fear\n",
      "6       images/test\\fear\\365.jpg      fear\n",
      "7       images/test\\fear\\414.jpg      fear\n",
      "8        images/test\\fear\\73.jpg      fear\n",
      "9        images/test\\fear\\85.jpg      fear\n",
      "10     images/test\\happy\\213.jpg     happy\n",
      "11     images/test\\happy\\247.jpg     happy\n",
      "12      images/test\\happy\\30.jpg     happy\n",
      "13     images/test\\happy\\325.jpg     happy\n",
      "14     images/test\\happy\\331.jpg     happy\n",
      "15     images/test\\happy\\333.jpg     happy\n",
      "16      images/test\\happy\\41.jpg     happy\n",
      "17      images/test\\happy\\62.jpg     happy\n",
      "18       images/test\\happy\\8.jpg     happy\n",
      "19      images/test\\happy\\80.jpg     happy\n",
      "20       images/test\\sad\\115.jpg       sad\n",
      "21       images/test\\sad\\172.jpg       sad\n",
      "22        images/test\\sad\\20.jpg       sad\n",
      "23       images/test\\sad\\680.jpg       sad\n",
      "24       images/test\\sad\\688.jpg       sad\n",
      "25        images/test\\sad\\70.jpg       sad\n",
      "26       images/test\\sad\\761.jpg       sad\n",
      "27       images/test\\sad\\798.jpg       sad\n",
      "28       images/test\\sad\\800.jpg       sad\n",
      "29        images/test\\sad\\98.jpg       sad\n",
      "30  images/test\\surprise\\176.jpg  surprise\n",
      "31  images/test\\surprise\\256.jpg  surprise\n",
      "32  images/test\\surprise\\276.jpg  surprise\n",
      "33   images/test\\surprise\\51.jpg  surprise\n",
      "34  images/test\\surprise\\670.jpg  surprise\n",
      "35  images/test\\surprise\\675.jpg  surprise\n",
      "36  images/test\\surprise\\692.jpg  surprise\n",
      "37  images/test\\surprise\\726.jpg  surprise\n",
      "38  images/test\\surprise\\759.jpg  surprise\n",
      "39   images/test\\surprise\\78.jpg  surprise\n",
      "0         images/test\\fear\\101.jpg\n",
      "1         images/test\\fear\\131.jpg\n",
      "2          images/test\\fear\\21.jpg\n",
      "3         images/test\\fear\\314.jpg\n",
      "4         images/test\\fear\\340.jpg\n",
      "5         images/test\\fear\\341.jpg\n",
      "6         images/test\\fear\\365.jpg\n",
      "7         images/test\\fear\\414.jpg\n",
      "8          images/test\\fear\\73.jpg\n",
      "9          images/test\\fear\\85.jpg\n",
      "10       images/test\\happy\\213.jpg\n",
      "11       images/test\\happy\\247.jpg\n",
      "12        images/test\\happy\\30.jpg\n",
      "13       images/test\\happy\\325.jpg\n",
      "14       images/test\\happy\\331.jpg\n",
      "15       images/test\\happy\\333.jpg\n",
      "16        images/test\\happy\\41.jpg\n",
      "17        images/test\\happy\\62.jpg\n",
      "18         images/test\\happy\\8.jpg\n",
      "19        images/test\\happy\\80.jpg\n",
      "20         images/test\\sad\\115.jpg\n",
      "21         images/test\\sad\\172.jpg\n",
      "22          images/test\\sad\\20.jpg\n",
      "23         images/test\\sad\\680.jpg\n",
      "24         images/test\\sad\\688.jpg\n",
      "25          images/test\\sad\\70.jpg\n",
      "26         images/test\\sad\\761.jpg\n",
      "27         images/test\\sad\\798.jpg\n",
      "28         images/test\\sad\\800.jpg\n",
      "29          images/test\\sad\\98.jpg\n",
      "30    images/test\\surprise\\176.jpg\n",
      "31    images/test\\surprise\\256.jpg\n",
      "32    images/test\\surprise\\276.jpg\n",
      "33     images/test\\surprise\\51.jpg\n",
      "34    images/test\\surprise\\670.jpg\n",
      "35    images/test\\surprise\\675.jpg\n",
      "36    images/test\\surprise\\692.jpg\n",
      "37    images/test\\surprise\\726.jpg\n",
      "38    images/test\\surprise\\759.jpg\n",
      "39     images/test\\surprise\\78.jpg\n",
      "Name: image, dtype: object\n"
     ]
    }
   ],
   "source": [
    "print(test)\n",
    "print(test['image'])"
   ]
  },
  {
   "cell_type": "code",
   "execution_count": 9,
   "id": "8463e34d-07f7-42a4-b0dd-fc96d33666d9",
   "metadata": {},
   "outputs": [],
   "source": [
    "from tqdm.notebook import tqdm"
   ]
  },
  {
   "cell_type": "code",
   "execution_count": 10,
   "id": "2fdb3afc-68f8-4be9-bffa-486791d34cc0",
   "metadata": {},
   "outputs": [],
   "source": [
    "def extract_features(images):\n",
    "    features = []\n",
    "    for image in tqdm(images):\n",
    "        img = load_img(image,grayscale =  True )\n",
    "        img = np.array(img)\n",
    "        features.append(img)\n",
    "    features = np.array(features)\n",
    "    features = features.reshape(len(features),48,48,1)\n",
    "    return features\n",
    "    "
   ]
  },
  {
   "cell_type": "code",
   "execution_count": 11,
   "id": "67cceb7e-348f-4856-91df-e057aca69dc1",
   "metadata": {},
   "outputs": [
    {
     "data": {
      "application/vnd.jupyter.widget-view+json": {
       "model_id": "c742ed1fb480477182a64ed676d223dd",
       "version_major": 2,
       "version_minor": 0
      },
      "text/plain": [
       "  0%|          | 0/60 [00:00<?, ?it/s]"
      ]
     },
     "metadata": {},
     "output_type": "display_data"
    },
    {
     "name": "stderr",
     "output_type": "stream",
     "text": [
      "D:\\Python311\\Lib\\site-packages\\keras_preprocessing\\image\\utils.py:107: UserWarning: grayscale is deprecated. Please use color_mode = \"grayscale\"\n",
      "  warnings.warn('grayscale is deprecated. Please use '\n"
     ]
    }
   ],
   "source": [
    "train_features = extract_features(train['image'])"
   ]
  },
  {
   "cell_type": "code",
   "execution_count": 12,
   "id": "19974bfa-dc70-4139-bf47-77817d605916",
   "metadata": {},
   "outputs": [
    {
     "data": {
      "application/vnd.jupyter.widget-view+json": {
       "model_id": "9eb7495bbf444e95bd9224b95e6c6cef",
       "version_major": 2,
       "version_minor": 0
      },
      "text/plain": [
       "  0%|          | 0/40 [00:00<?, ?it/s]"
      ]
     },
     "metadata": {},
     "output_type": "display_data"
    }
   ],
   "source": [
    "test_features = extract_features(test['image'])"
   ]
  },
  {
   "cell_type": "code",
   "execution_count": 13,
   "id": "2bd452ba-7d1f-4544-89d2-c46c9127b4a5",
   "metadata": {},
   "outputs": [],
   "source": [
    "x_train = train_features/255.0\n",
    "x_test = test_features/255.0"
   ]
  },
  {
   "cell_type": "code",
   "execution_count": 14,
   "id": "cf9ec0fb-c48f-405b-9c3a-e1ce2ab72c4c",
   "metadata": {},
   "outputs": [],
   "source": [
    "from sklearn.preprocessing import LabelEncoder"
   ]
  },
  {
   "cell_type": "code",
   "execution_count": 15,
   "id": "e1c662c0-6e9a-4d4d-b92f-5b981759942b",
   "metadata": {},
   "outputs": [
    {
     "data": {
      "text/html": [
       "<style>#sk-container-id-1 {color: black;}#sk-container-id-1 pre{padding: 0;}#sk-container-id-1 div.sk-toggleable {background-color: white;}#sk-container-id-1 label.sk-toggleable__label {cursor: pointer;display: block;width: 100%;margin-bottom: 0;padding: 0.3em;box-sizing: border-box;text-align: center;}#sk-container-id-1 label.sk-toggleable__label-arrow:before {content: \"▸\";float: left;margin-right: 0.25em;color: #696969;}#sk-container-id-1 label.sk-toggleable__label-arrow:hover:before {color: black;}#sk-container-id-1 div.sk-estimator:hover label.sk-toggleable__label-arrow:before {color: black;}#sk-container-id-1 div.sk-toggleable__content {max-height: 0;max-width: 0;overflow: hidden;text-align: left;background-color: #f0f8ff;}#sk-container-id-1 div.sk-toggleable__content pre {margin: 0.2em;color: black;border-radius: 0.25em;background-color: #f0f8ff;}#sk-container-id-1 input.sk-toggleable__control:checked~div.sk-toggleable__content {max-height: 200px;max-width: 100%;overflow: auto;}#sk-container-id-1 input.sk-toggleable__control:checked~label.sk-toggleable__label-arrow:before {content: \"▾\";}#sk-container-id-1 div.sk-estimator input.sk-toggleable__control:checked~label.sk-toggleable__label {background-color: #d4ebff;}#sk-container-id-1 div.sk-label input.sk-toggleable__control:checked~label.sk-toggleable__label {background-color: #d4ebff;}#sk-container-id-1 input.sk-hidden--visually {border: 0;clip: rect(1px 1px 1px 1px);clip: rect(1px, 1px, 1px, 1px);height: 1px;margin: -1px;overflow: hidden;padding: 0;position: absolute;width: 1px;}#sk-container-id-1 div.sk-estimator {font-family: monospace;background-color: #f0f8ff;border: 1px dotted black;border-radius: 0.25em;box-sizing: border-box;margin-bottom: 0.5em;}#sk-container-id-1 div.sk-estimator:hover {background-color: #d4ebff;}#sk-container-id-1 div.sk-parallel-item::after {content: \"\";width: 100%;border-bottom: 1px solid gray;flex-grow: 1;}#sk-container-id-1 div.sk-label:hover label.sk-toggleable__label {background-color: #d4ebff;}#sk-container-id-1 div.sk-serial::before {content: \"\";position: absolute;border-left: 1px solid gray;box-sizing: border-box;top: 0;bottom: 0;left: 50%;z-index: 0;}#sk-container-id-1 div.sk-serial {display: flex;flex-direction: column;align-items: center;background-color: white;padding-right: 0.2em;padding-left: 0.2em;position: relative;}#sk-container-id-1 div.sk-item {position: relative;z-index: 1;}#sk-container-id-1 div.sk-parallel {display: flex;align-items: stretch;justify-content: center;background-color: white;position: relative;}#sk-container-id-1 div.sk-item::before, #sk-container-id-1 div.sk-parallel-item::before {content: \"\";position: absolute;border-left: 1px solid gray;box-sizing: border-box;top: 0;bottom: 0;left: 50%;z-index: -1;}#sk-container-id-1 div.sk-parallel-item {display: flex;flex-direction: column;z-index: 1;position: relative;background-color: white;}#sk-container-id-1 div.sk-parallel-item:first-child::after {align-self: flex-end;width: 50%;}#sk-container-id-1 div.sk-parallel-item:last-child::after {align-self: flex-start;width: 50%;}#sk-container-id-1 div.sk-parallel-item:only-child::after {width: 0;}#sk-container-id-1 div.sk-dashed-wrapped {border: 1px dashed gray;margin: 0 0.4em 0.5em 0.4em;box-sizing: border-box;padding-bottom: 0.4em;background-color: white;}#sk-container-id-1 div.sk-label label {font-family: monospace;font-weight: bold;display: inline-block;line-height: 1.2em;}#sk-container-id-1 div.sk-label-container {text-align: center;}#sk-container-id-1 div.sk-container {/* jupyter's `normalize.less` sets `[hidden] { display: none; }` but bootstrap.min.css set `[hidden] { display: none !important; }` so we also need the `!important` here to be able to override the default hidden behavior on the sphinx rendered scikit-learn.org. See: https://github.com/scikit-learn/scikit-learn/issues/21755 */display: inline-block !important;position: relative;}#sk-container-id-1 div.sk-text-repr-fallback {display: none;}</style><div id=\"sk-container-id-1\" class=\"sk-top-container\"><div class=\"sk-text-repr-fallback\"><pre>LabelEncoder()</pre><b>In a Jupyter environment, please rerun this cell to show the HTML representation or trust the notebook. <br />On GitHub, the HTML representation is unable to render, please try loading this page with nbviewer.org.</b></div><div class=\"sk-container\" hidden><div class=\"sk-item\"><div class=\"sk-estimator sk-toggleable\"><input class=\"sk-toggleable__control sk-hidden--visually\" id=\"sk-estimator-id-1\" type=\"checkbox\" checked><label for=\"sk-estimator-id-1\" class=\"sk-toggleable__label sk-toggleable__label-arrow\">LabelEncoder</label><div class=\"sk-toggleable__content\"><pre>LabelEncoder()</pre></div></div></div></div></div>"
      ],
      "text/plain": [
       "LabelEncoder()"
      ]
     },
     "execution_count": 15,
     "metadata": {},
     "output_type": "execute_result"
    }
   ],
   "source": [
    "le = LabelEncoder()\n",
    "le.fit(train['label'])"
   ]
  },
  {
   "cell_type": "code",
   "execution_count": 16,
   "id": "9615ede7-273b-4d89-b2ac-20afcdc44b8f",
   "metadata": {},
   "outputs": [],
   "source": [
    "y_train = le.transform(train['label'])\n",
    "y_test = le.transform(test['label'])"
   ]
  },
  {
   "cell_type": "code",
   "execution_count": 17,
   "id": "328f52cf-e581-4fab-868f-a8a2564e50bd",
   "metadata": {},
   "outputs": [],
   "source": [
    "y_train = to_categorical(y_train,num_classes = 7)\n",
    "y_test = to_categorical(y_test,num_classes = 7)"
   ]
  },
  {
   "cell_type": "code",
   "execution_count": 18,
   "id": "52bd37ff-a53d-49cc-b23e-9fd834bfd0ee",
   "metadata": {},
   "outputs": [
    {
     "name": "stdout",
     "output_type": "stream",
     "text": [
      "WARNING:tensorflow:From D:\\Python311\\Lib\\site-packages\\keras\\src\\backend.py:873: The name tf.get_default_graph is deprecated. Please use tf.compat.v1.get_default_graph instead.\n",
      "\n",
      "WARNING:tensorflow:From D:\\Python311\\Lib\\site-packages\\keras\\src\\layers\\pooling\\max_pooling2d.py:161: The name tf.nn.max_pool is deprecated. Please use tf.nn.max_pool2d instead.\n",
      "\n"
     ]
    }
   ],
   "source": [
    "model = Sequential()\n",
    "# convolutional layers\n",
    "model.add(Conv2D(128, kernel_size=(3,3), activation='relu', input_shape=(48,48,1)))\n",
    "model.add(MaxPooling2D(pool_size=(2,2)))\n",
    "model.add(Dropout(0.4))\n",
    "\n",
    "model.add(Conv2D(256, kernel_size=(3,3), activation='relu'))\n",
    "model.add(MaxPooling2D(pool_size=(2,2)))\n",
    "model.add(Dropout(0.4))\n",
    "\n",
    "model.add(Conv2D(512, kernel_size=(3,3), activation='relu'))\n",
    "model.add(MaxPooling2D(pool_size=(2,2)))\n",
    "model.add(Dropout(0.4))\n",
    "\n",
    "model.add(Conv2D(512, kernel_size=(3,3), activation='relu'))\n",
    "model.add(MaxPooling2D(pool_size=(2,2)))\n",
    "model.add(Dropout(0.4))\n",
    "\n",
    "model.add(Flatten())\n",
    "# fully connected layers\n",
    "model.add(Dense(512, activation='relu'))\n",
    "model.add(Dropout(0.4))\n",
    "model.add(Dense(256, activation='relu'))\n",
    "model.add(Dropout(0.3))\n",
    "# output layer\n",
    "model.add(Dense(7, activation='softmax'))"
   ]
  },
  {
   "cell_type": "code",
   "execution_count": 19,
   "id": "fb8371c2-637f-4396-8aca-bb3b9966c11a",
   "metadata": {},
   "outputs": [
    {
     "name": "stdout",
     "output_type": "stream",
     "text": [
      "WARNING:tensorflow:From D:\\Python311\\Lib\\site-packages\\keras\\src\\optimizers\\__init__.py:309: The name tf.train.Optimizer is deprecated. Please use tf.compat.v1.train.Optimizer instead.\n",
      "\n"
     ]
    }
   ],
   "source": [
    "model.compile(optimizer = 'adam', loss = 'categorical_crossentropy', metrics = 'accuracy' )"
   ]
  },
  {
   "cell_type": "code",
   "execution_count": null,
   "id": "f0178bd3-a193-459a-a511-ac705a96ce81",
   "metadata": {},
   "outputs": [
    {
     "name": "stdout",
     "output_type": "stream",
     "text": [
      "Epoch 1/100\n",
      "WARNING:tensorflow:From D:\\Python311\\Lib\\site-packages\\keras\\src\\utils\\tf_utils.py:492: The name tf.ragged.RaggedTensorValue is deprecated. Please use tf.compat.v1.ragged.RaggedTensorValue instead.\n",
      "\n",
      "WARNING:tensorflow:From D:\\Python311\\Lib\\site-packages\\keras\\src\\engine\\base_layer_utils.py:384: The name tf.executing_eagerly_outside_functions is deprecated. Please use tf.compat.v1.executing_eagerly_outside_functions instead.\n",
      "\n"
     ]
    }
   ],
   "source": [
    "model.fit(x= x_train,y = y_train, batch_size = 128, epochs = 100, validation_data = (x_test,y_test)) "
   ]
  },
  {
   "cell_type": "code",
   "execution_count": null,
   "id": "f8394964-a96c-4ee1-8281-f8f5e887bddf",
   "metadata": {},
   "outputs": [],
   "source": [
    "model_json = model.to_json()\n",
    "with open(\"emotiondetector.json\",'w') as json_file:\n",
    "    json_file.write(model_json)\n",
    "model.save(\"emotiondetector.h5\")"
   ]
  },
  {
   "cell_type": "code",
   "execution_count": null,
   "id": "3c5af979-1312-45a7-80af-b4dac0157b16",
   "metadata": {},
   "outputs": [],
   "source": [
    "from keras.models import model_from_json"
   ]
  },
  {
   "cell_type": "code",
   "execution_count": null,
   "id": "d0903dac-4c62-408f-b87a-9cc7297168b8",
   "metadata": {},
   "outputs": [],
   "source": [
    "json_file = open(\"facialemotionmodel.json\", \"r\")\n",
    "model_json = json_file.read()\n",
    "json_file.close()\n",
    "model = model_from_json(model_json)\n",
    "model.load_weights(\"facialemotionmodel.h5\")"
   ]
  },
  {
   "cell_type": "code",
   "execution_count": null,
   "id": "afe227d0-7fbd-43f9-8c68-62b7eaf068aa",
   "metadata": {},
   "outputs": [],
   "source": [
    "label = ['angry','disgust','fear','happy','neutral','sad','surprise']"
   ]
  },
  {
   "cell_type": "code",
   "execution_count": null,
   "id": "7b7b3107-1f95-430d-8ebe-dc05b21cc837",
   "metadata": {},
   "outputs": [],
   "source": [
    "def ef(image):\n",
    "    img = load_img(image,grayscale =  True )\n",
    "    feature = np.array(img)\n",
    "    feature = feature.reshape(1,48,48,1)\n",
    "    return feature/255.0\n",
    "    "
   ]
  },
  {
   "cell_type": "code",
   "execution_count": null,
   "id": "fd62b172-40dc-4052-8af1-27b1956a378b",
   "metadata": {},
   "outputs": [],
   "source": [
    "image = 'images/train/sad/42.jpg'\n",
    "print(\"original image is of sad\")\n",
    "img = ef(image)\n",
    "pred = model.predict(img)\n",
    "pred_label = label[pred.argmax()]\n",
    "print(\"model prediction is \",pred_label)"
   ]
  },
  {
   "cell_type": "code",
   "execution_count": null,
   "id": "1f4e8df7-d590-41ab-94c3-66131384f581",
   "metadata": {},
   "outputs": [],
   "source": [
    "import matplotlib.pyplot as plt\n",
    "%matplotlib inline"
   ]
  },
  {
   "cell_type": "code",
   "execution_count": null,
   "id": "0943ee8d-9349-4ad0-89b0-bd947c6c475e",
   "metadata": {},
   "outputs": [],
   "source": [
    "image = 'images/train/sad/42.jpg'\n",
    "print(\"original image is of sad\")\n",
    "img = ef(image)\n",
    "pred = model.predict(img)\n",
    "pred_label = label[pred.argmax()]\n",
    "print(\"model prediction is \",pred_label)\n",
    "plt.imshow(img.reshape(48,48),cmap='gray')"
   ]
  },
  {
   "cell_type": "code",
   "execution_count": null,
   "id": "47cfbb5a-71df-4662-a4f1-f5c10d758377",
   "metadata": {},
   "outputs": [],
   "source": [
    "image = 'images/train/fear/2.jpg'\n",
    "print(\"original image is of fear\")\n",
    "img = ef(image)\n",
    "pred = model.predict(img)\n",
    "pred_label = label[pred.argmax()]\n",
    "print(\"model prediction is \",pred_label)\n",
    "plt.imshow(img.reshape(48,48),cmap='gray')"
   ]
  },
  {
   "cell_type": "code",
   "execution_count": null,
   "id": "c08084fd-89bf-47ff-814f-9f0bd2d8999f",
   "metadata": {},
   "outputs": [],
   "source": [
    "image = 'images/train/disgust/299.jpg'\n",
    "print(\"original image is of disgust\")\n",
    "img = ef(image)\n",
    "pred = model.predict(img)\n",
    "pred_label = label[pred.argmax()]\n",
    "print(\"model prediction is \",pred_label)\n",
    "plt.imshow(img.reshape(48,48),cmap='gray')"
   ]
  },
  {
   "cell_type": "code",
   "execution_count": null,
   "id": "b80c9b4e-2daa-4b6a-8f11-5fd3ef1a755c",
   "metadata": {},
   "outputs": [],
   "source": [
    "image = 'images/train/happy/7.jpg'\n",
    "print(\"original image is of happy\")\n",
    "img = ef(image)\n",
    "pred = model.predict(img)\n",
    "pred_label = label[pred.argmax()]\n",
    "print(\"model prediction is \",pred_label)\n",
    "plt.imshow(img.reshape(48,48),cmap='gray')"
   ]
  },
  {
   "cell_type": "code",
   "execution_count": null,
   "id": "9b04db0f-93d5-4d6d-9f25-65728b711d79",
   "metadata": {},
   "outputs": [],
   "source": [
    "image = 'images/train/surprise/15.jpg'\n",
    "print(\"original image is of surprise\")\n",
    "img = ef(image)\n",
    "pred = model.predict(img)\n",
    "pred_label = label[pred.argmax()]\n",
    "print(\"model prediction is \",pred_label)\n",
    "plt.imshow(img.reshape(48,48),cmap='gray')"
   ]
  },
  {
   "cell_type": "code",
   "execution_count": null,
   "id": "a8369aa7-21dd-4df7-8442-73a1395b87dd",
   "metadata": {},
   "outputs": [],
   "source": []
  }
 ],
 "metadata": {
  "kernelspec": {
   "display_name": "Python 3 (ipykernel)",
   "language": "python",
   "name": "python3"
  },
  "language_info": {
   "codemirror_mode": {
    "name": "ipython",
    "version": 3
   },
   "file_extension": ".py",
   "mimetype": "text/x-python",
   "name": "python",
   "nbconvert_exporter": "python",
   "pygments_lexer": "ipython3",
   "version": "3.11.5"
  }
 },
 "nbformat": 4,
 "nbformat_minor": 5
}
